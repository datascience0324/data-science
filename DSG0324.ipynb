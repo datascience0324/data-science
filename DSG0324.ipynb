{
 "cells": [
  {
   "cell_type": "code",
   "execution_count": 2,
   "id": "a359c6a7-f82e-42b4-9c81-4fb326426993",
   "metadata": {},
   "outputs": [
    {
     "name": "stdout",
     "output_type": "stream",
     "text": [
      "Hello Data Science World!!\n"
     ]
    }
   ],
   "source": [
    "print(\"Hello Data Science World!!\")"
   ]
  },
  {
   "cell_type": "code",
   "execution_count": 3,
   "id": "7601b2dc-d6d0-4afd-a8fb-8cdfcc586aec",
   "metadata": {},
   "outputs": [
    {
     "name": "stdout",
     "output_type": "stream",
     "text": [
      "Machine Learning\n"
     ]
    }
   ],
   "source": [
    "print (\"Machine Learning\")"
   ]
  },
  {
   "cell_type": "code",
   "execution_count": 4,
   "id": "4b3c960a-eb88-47cd-9313-43d8c276538c",
   "metadata": {},
   "outputs": [
    {
     "name": "stdout",
     "output_type": "stream",
     "text": [
      "Abraham Erue\n"
     ]
    }
   ],
   "source": [
    "print(\"Abraham Erue\")"
   ]
  },
  {
   "cell_type": "code",
   "execution_count": 6,
   "id": "f0a13b8a-1d7d-4bb4-bf46-a89a94bd3485",
   "metadata": {},
   "outputs": [
    {
     "data": {
      "text/plain": [
       "1"
      ]
     },
     "execution_count": 6,
     "metadata": {},
     "output_type": "execute_result"
    }
   ],
   "source": [
    "25-24"
   ]
  },
  {
   "cell_type": "code",
   "execution_count": 5,
   "id": "7773c0f7-fb0a-47a0-8a35-9c099d78b425",
   "metadata": {},
   "outputs": [
    {
     "data": {
      "text/plain": [
       "35"
      ]
     },
     "execution_count": 5,
     "metadata": {},
     "output_type": "execute_result"
    }
   ],
   "source": [
    "10+25"
   ]
  },
  {
   "cell_type": "code",
   "execution_count": null,
   "id": "11cbc65f-ad68-4407-aac8-33c29f081067",
   "metadata": {},
   "outputs": [],
   "source": [
    "Data\n",
    "Data\n",
    "Data\n",
    "Data"
   ]
  },
  {
   "cell_type": "code",
   "execution_count": 1,
   "id": "92547092-ee99-433e-9c0e-95b4dca21ed8",
   "metadata": {},
   "outputs": [
    {
     "data": {
      "text/plain": [
       "6.0"
      ]
     },
     "execution_count": 1,
     "metadata": {},
     "output_type": "execute_result"
    }
   ],
   "source": [
    "24/4"
   ]
  },
  {
   "cell_type": "code",
   "execution_count": 7,
   "id": "d51aa889-32b2-4030-b062-e26d01db853a",
   "metadata": {},
   "outputs": [
    {
     "data": {
      "text/plain": [
       "6.0"
      ]
     },
     "execution_count": 7,
     "metadata": {},
     "output_type": "execute_result"
    }
   ],
   "source": [
    "24/4"
   ]
  }
 ],
 "metadata": {
  "kernelspec": {
   "display_name": "Python 3 (ipykernel)",
   "language": "python",
   "name": "python3"
  },
  "language_info": {
   "codemirror_mode": {
    "name": "ipython",
    "version": 3
   },
   "file_extension": ".py",
   "mimetype": "text/x-python",
   "name": "python",
   "nbconvert_exporter": "python",
   "pygments_lexer": "ipython3",
   "version": "3.11.7"
  }
 },
 "nbformat": 4,
 "nbformat_minor": 5
}
